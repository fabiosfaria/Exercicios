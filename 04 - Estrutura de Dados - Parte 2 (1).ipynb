{
 "cells": [
  {
   "cell_type": "markdown",
   "id": "693342dc-15f4-495a-b392-e944039c2e63",
   "metadata": {},
   "source": [
    "# 04 - Estruturas de Dados - Parte 2\n",
    "\n",
    "Na aula passada estudamos listas, que são estruturas muito úteis. \n",
    "\n",
    "Nessa aula vamos aprofundar em mais alguns detalhes de como essas estruturas funcionam internamente e apresentaremos mais uma estrutra que é o Dicionário / HashMap."
   ]
  },
  {
   "cell_type": "markdown",
   "id": "136401dd-8eff-41a1-a702-2f23fd3a65d9",
   "metadata": {
    "tags": []
   },
   "source": [
    "## Referência x Cópia\n",
    "\n",
    "#### O que acontece quando igualamos variáveis númericas? \n",
    "\n",
    "Vamos ver a seguir:"
   ]
  },
  {
   "cell_type": "code",
   "execution_count": 34,
   "id": "94a59660-f9b9-48d7-a736-88a6cd3ca974",
   "metadata": {
    "tags": []
   },
   "outputs": [],
   "source": [
    "primeira_variavel = 10000"
   ]
  },
  {
   "cell_type": "code",
   "execution_count": 35,
   "id": "b3274a80-c696-411b-9ec3-1108993366ed",
   "metadata": {
    "tags": []
   },
   "outputs": [],
   "source": [
    "segunda_variavel = primeira_variavel"
   ]
  },
  {
   "cell_type": "code",
   "execution_count": 38,
   "id": "8b415a21-e4eb-4d1c-a791-a72cf5a9205e",
   "metadata": {
    "tags": []
   },
   "outputs": [
    {
     "name": "stdout",
     "output_type": "stream",
     "text": [
      "O valor da posicao da memoria da primeira_variavel é  0x1028adfb8\n",
      "O valor da posicao da memoria da segunda_variavel é  0x1059f3030\n"
     ]
    }
   ],
   "source": [
    "print(\"O valor da posicao da memoria da primeira_variavel é \", hex(id(primeira_variavel)))\n",
    "print(\"O valor da posicao da memoria da segunda_variavel é \", hex(id(segunda_variavel)))"
   ]
  },
  {
   "cell_type": "code",
   "execution_count": 37,
   "id": "e8f1b107-541d-432b-9624-bf6565fd2803",
   "metadata": {
    "tags": []
   },
   "outputs": [],
   "source": [
    "primeira_variavel = 20"
   ]
  },
  {
   "cell_type": "code",
   "execution_count": null,
   "id": "6502413c-ba80-4943-996c-40d8af5db119",
   "metadata": {},
   "outputs": [],
   "source": [
    "segunda_variavel = primeira_variavel"
   ]
  },
  {
   "cell_type": "code",
   "execution_count": 16,
   "id": "73291db1-65e4-41aa-8197-677df8cd5122",
   "metadata": {
    "tags": []
   },
   "outputs": [
    {
     "name": "stdout",
     "output_type": "stream",
     "text": [
      "A primeira variavel é 10\n",
      "A segunda variavel é 10\n"
     ]
    }
   ],
   "source": [
    "print(f\"A primeira variavel é {primeira_variavel}\")\n",
    "print(f\"A segunda variavel é {segunda_variavel}\")"
   ]
  },
  {
   "cell_type": "markdown",
   "id": "f2f1932e-58e2-4b39-aa66-c354b07b8349",
   "metadata": {},
   "source": [
    "Como esperado, a segunda variável recebe o valor da primeira. \n",
    "\n",
    "Agora, o que acontece se modificarmos apenas a primeira variável?"
   ]
  },
  {
   "cell_type": "code",
   "execution_count": 17,
   "id": "a8090da3-0b8b-42e3-bdce-99ffc7ca6b04",
   "metadata": {
    "tags": []
   },
   "outputs": [],
   "source": [
    "primeira_variavel = 20"
   ]
  },
  {
   "cell_type": "code",
   "execution_count": 18,
   "id": "9b77b896-5cd6-44ea-b749-85230de7d85e",
   "metadata": {
    "tags": []
   },
   "outputs": [
    {
     "name": "stdout",
     "output_type": "stream",
     "text": [
      "A primeira variavel é 20\n",
      "A segunda variavel é 10\n"
     ]
    }
   ],
   "source": [
    "print(f\"A primeira variavel é {primeira_variavel}\")\n",
    "print(f\"A segunda variavel é {segunda_variavel}\")"
   ]
  },
  {
   "cell_type": "markdown",
   "id": "780ed835-a775-44f7-b099-e9da199e3a6d",
   "metadata": {},
   "source": [
    "Apenas a primeira variável é modificada, já que só modificamos ela mesmo.\n",
    "\n",
    "Em efeitos práticos, quando igualamos 2 variáveis primitivas podemos pensar que funciona como se fosse uma cópia do \"valor\" da variável. Seria como se a segunda_variável tivesse olhando apenas o valor da primeira_variavel."
   ]
  },
  {
   "cell_type": "markdown",
   "id": "3f6a1ae9-2dcd-4691-a0d2-922120f9f972",
   "metadata": {},
   "source": [
    "#### Mas o que acontece se tentamos fazer algo parecido com estruturas mais complexas?\n",
    "\n",
    "Vamos ver:"
   ]
  },
  {
   "cell_type": "code",
   "execution_count": 45,
   "id": "bdca4202-894c-46ee-8453-7cc5732712a9",
   "metadata": {
    "tags": []
   },
   "outputs": [],
   "source": [
    "primeira_lista = [1, 2, 3]\n",
    "segunda_lista = primeira_lista"
   ]
  },
  {
   "cell_type": "code",
   "execution_count": 46,
   "id": "354e05e9-dbf9-4bb5-a54b-afd42b1f7a96",
   "metadata": {
    "tags": []
   },
   "outputs": [
    {
     "name": "stdout",
     "output_type": "stream",
     "text": [
      "A primeira lista é [1, 2, 3]\n",
      "A segunda lista é [1, 2, 3]\n"
     ]
    }
   ],
   "source": [
    "print(f\"A primeira lista é {primeira_lista}\")\n",
    "print(f\"A segunda lista é {segunda_lista}\")"
   ]
  },
  {
   "cell_type": "markdown",
   "id": "337aa829-bd44-4b9d-8d13-72de60517043",
   "metadata": {},
   "source": [
    "Até aqui tudo bem. Mas o que acontece se eu editar a primeira lista?"
   ]
  },
  {
   "cell_type": "code",
   "execution_count": 47,
   "id": "08e898f0-597b-4736-8d01-a8a8dbeabfe7",
   "metadata": {
    "tags": []
   },
   "outputs": [],
   "source": [
    "primeira_lista[0] = 4"
   ]
  },
  {
   "cell_type": "code",
   "execution_count": 48,
   "id": "84edc4dc-cc2e-4b80-a396-c5a53716e574",
   "metadata": {
    "tags": []
   },
   "outputs": [
    {
     "name": "stdout",
     "output_type": "stream",
     "text": [
      "A primeira lista é [4, 2, 3]\n",
      "A segunda lista é [4, 2, 3]\n"
     ]
    }
   ],
   "source": [
    "print(f\"A primeira lista é {primeira_lista}\")\n",
    "print(f\"A segunda lista é {segunda_lista}\")"
   ]
  },
  {
   "cell_type": "code",
   "execution_count": 49,
   "id": "d36ed464-29ad-46d1-9cad-6967e009ef32",
   "metadata": {
    "tags": []
   },
   "outputs": [],
   "source": [
    "primeira_lista.append(11)"
   ]
  },
  {
   "cell_type": "code",
   "execution_count": 50,
   "id": "2a22f014-7e39-4202-85f3-1d42c5a6e360",
   "metadata": {
    "tags": []
   },
   "outputs": [
    {
     "name": "stdout",
     "output_type": "stream",
     "text": [
      "A primeira lista é [4, 2, 3, 11]\n",
      "A segunda lista é [4, 2, 3, 11]\n"
     ]
    }
   ],
   "source": [
    "print(f\"A primeira lista é {primeira_lista}\")\n",
    "print(f\"A segunda lista é {segunda_lista}\")"
   ]
  },
  {
   "cell_type": "markdown",
   "id": "4b6ea2e2-e9d8-45bd-8712-a768e0695e37",
   "metadata": {},
   "source": [
    "**Ambas modificaram!**\n",
    "\n",
    "Por que acontece isso?\n",
    "\n",
    "Quando igualamos duas variáveis, na verdade não estamos igualando o valor de fato, estamos passando uma referência a variável original. Então o que acontece internamente é que estamos apontando para mesma posição de memória da primeira variável (por isso que as vezes utilizam o termo \"ponteiro\" para essas variáveis -> a segunda_lista é um \"ponteiro\" para a primeira_lista).\n",
    "\n",
    "Assim, quando uma é modificada, reflete na outra.\n",
    "\n",
    "Quando temos que reatribuir a variável com `=` essa relação se quebra, por exemplo:"
   ]
  },
  {
   "cell_type": "code",
   "execution_count": 51,
   "id": "4a0a6ff4-b197-4e78-a7ea-e88e88f84a04",
   "metadata": {
    "tags": []
   },
   "outputs": [],
   "source": [
    "primeira_lista = [1, 2, 3]\n",
    "segunda_lista = primeira_lista"
   ]
  },
  {
   "cell_type": "code",
   "execution_count": 52,
   "id": "fc6ae519-5a1a-4e9d-9276-892a8393f2e1",
   "metadata": {
    "tags": []
   },
   "outputs": [],
   "source": [
    "primeira_lista = [4, 5, 6]"
   ]
  },
  {
   "cell_type": "code",
   "execution_count": 53,
   "id": "87bed1e5-34fe-449d-bb61-fb3dbd26c3f5",
   "metadata": {
    "tags": []
   },
   "outputs": [
    {
     "name": "stdout",
     "output_type": "stream",
     "text": [
      "A primeira lista é [4, 5, 6]\n",
      "A segunda lista é [1, 2, 3]\n"
     ]
    }
   ],
   "source": [
    "print(f\"A primeira lista é {primeira_lista}\")\n",
    "print(f\"A segunda lista é {segunda_lista}\")"
   ]
  },
  {
   "cell_type": "markdown",
   "id": "42c14302-f1a2-46f6-9466-78ecdffe4eee",
   "metadata": {},
   "source": [
    "Por isso que não precisamos nos preocupar com isso com os tipos primitivos! \n",
    "\n",
    "Mas agora, estruturas mais complexas que você pode fazer modificações internas, como mudar um elemento do meio da lista, dar um `append`, etc, é necessária essa preocupação."
   ]
  },
  {
   "cell_type": "markdown",
   "id": "b5e8da3f-7978-448d-89b0-6552c88698ec",
   "metadata": {},
   "source": [
    "#### E se quisermos ter apenas uma cópia, e não uma referência?\n",
    "\n",
    "Aí basta copiarmos valor por valor, como no exemplo a seguir:"
   ]
  },
  {
   "cell_type": "code",
   "execution_count": 14,
   "id": "fc0bd3fb-dd78-44ac-9f3c-d0289689dd95",
   "metadata": {
    "tags": []
   },
   "outputs": [],
   "source": [
    "primeira_lista = [1, 2, 3]\n",
    "\n",
    "segunda_lista = []\n",
    "\n",
    "for valor in primeira_lista:\n",
    "    segunda_lista.append(valor)"
   ]
  },
  {
   "cell_type": "code",
   "execution_count": 15,
   "id": "6cb716af-7f6a-4ad1-a22a-598b50d5ef2d",
   "metadata": {
    "tags": []
   },
   "outputs": [
    {
     "name": "stdout",
     "output_type": "stream",
     "text": [
      "A primeira lista é [1, 2, 3]\n",
      "A segunda lista é [1, 2, 3]\n"
     ]
    }
   ],
   "source": [
    "print(f\"A primeira lista é {primeira_lista}\")\n",
    "print(f\"A segunda lista é {segunda_lista}\")"
   ]
  },
  {
   "cell_type": "code",
   "execution_count": 16,
   "id": "a4c0a1c8-221c-42c3-b83e-d74dc8522555",
   "metadata": {
    "tags": []
   },
   "outputs": [],
   "source": [
    "primeira_lista[0] = 4"
   ]
  },
  {
   "cell_type": "code",
   "execution_count": 17,
   "id": "1d8c43c3-a22b-4e19-851d-873b210acaa9",
   "metadata": {
    "tags": []
   },
   "outputs": [
    {
     "name": "stdout",
     "output_type": "stream",
     "text": [
      "A primeira lista é [4, 2, 3]\n",
      "A segunda lista é [1, 2, 3]\n"
     ]
    }
   ],
   "source": [
    "print(f\"A primeira lista é {primeira_lista}\")\n",
    "print(f\"A segunda lista é {segunda_lista}\")"
   ]
  },
  {
   "cell_type": "markdown",
   "id": "6bf18b54-4683-4ac5-9337-c69d271ddd05",
   "metadata": {},
   "source": [
    "**Ambas são independentes agora!!!**"
   ]
  },
  {
   "cell_type": "markdown",
   "id": "19176cdb-b95d-4f11-8563-d2443242b98f",
   "metadata": {},
   "source": [
    "## Problemas da estrutura lista"
   ]
  },
  {
   "cell_type": "markdown",
   "id": "8043e114-c3a5-4120-9a8c-b8e1ccdd0947",
   "metadata": {},
   "source": [
    "A lista é uma estrutura muito importante, mas ela tem alguns defeitos.\n",
    "\n",
    "Vamos ver dois deles a seguir:"
   ]
  },
  {
   "cell_type": "markdown",
   "id": "efac9333-bbab-41e2-a392-6c6554a53e14",
   "metadata": {},
   "source": [
    "#### Exemplo\n",
    "\n",
    "Vamos supor que eu tenho uma aplicação de um banco. \n",
    "\n",
    "Eu tenho o id do cliente no banco, nome, sobrenome, cpf e valor em conta e escolho utilizar listas para isso.\n",
    "\n",
    "É possível, utilizando listas de listas, e teríamos uma estrutura mais ou menos assim:"
   ]
  },
  {
   "cell_type": "code",
   "execution_count": 57,
   "id": "907e445d-434f-4522-8121-26ab12ed1543",
   "metadata": {
    "tags": []
   },
   "outputs": [],
   "source": [
    "pessoas = [\n",
    "    [11, \"Michel Chieregato\", 40836474856, 0],\n",
    "    [21, \"José da Silva\", 12789233340, 0.00],\n",
    "    [33, \"Maria Gomes\", 99989233340, 1000.00],\n",
    "    # ...\n",
    "]"
   ]
  },
  {
   "cell_type": "markdown",
   "id": "b81e6410-a039-47c0-b327-3f756135f56f",
   "metadata": {},
   "source": [
    "Para vamos supor que o programa é responsável por fazer um depósito bancário, e pergunta o id do cliente e o valor do depósito, e modifica essa lista.\n",
    "\n",
    "Seria algo assim:"
   ]
  },
  {
   "cell_type": "code",
   "execution_count": 58,
   "id": "b06e3662-d38f-4e66-8384-7dba60e98e0b",
   "metadata": {
    "tags": []
   },
   "outputs": [
    {
     "name": "stdin",
     "output_type": "stream",
     "text": [
      "Digite o id do cliente:  11\n",
      "Digite o valor a ser depositado:  50\n"
     ]
    },
    {
     "name": "stdout",
     "output_type": "stream",
     "text": [
      "O cliente Michel Chieregato de cpf 40836474856 agora tem 50.0 dinheiro no banco.\n"
     ]
    }
   ],
   "source": [
    "id_do_cliente = int(input(\"Digite o id do cliente: \"))\n",
    "valor_a_ser_depositado = float(input(\"Digite o valor a ser depositado: \"))\n",
    "\n",
    "for pessoa in pessoas:\n",
    "    if pessoa[0] == id_do_cliente:\n",
    "        pessoa[3] = pessoa[3] + valor_a_ser_depositado\n",
    "        print(f\"O cliente {pessoa[1]} de cpf {pessoa[2]} agora tem {pessoa[3]} dinheiro no banco.\")"
   ]
  },
  {
   "cell_type": "markdown",
   "id": "71cf70eb-3fed-43fc-965f-30cfcb27caa1",
   "metadata": {},
   "source": [
    "Isso funciona, mas tem dois defeitos:\n",
    "\n",
    "- Legibilidade\n",
    "    - Quem lê o código tem muita dificuldade de entender o que pessoa[0], pessoa[1], pessoa[3] é, principalmente se o código for grande.\n",
    "\n",
    "\n",
    "- Dificuldade de achar o cliente\n",
    "    - Esse código tem que sempre percorrer a lista procurando o cliente! E se ele tiver no fim da lista e a lista for muito grande? É pouco eficiente."
   ]
  },
  {
   "cell_type": "markdown",
   "id": "6b293b83-ecd2-4dc3-b87b-3b35f20c5526",
   "metadata": {},
   "source": [
    "## Dicionário\n",
    "\n",
    "Dicionário é uma outra estrutura muito comum em linguagens de programação.\n",
    "\n",
    "Elas salvam os dados numa estrutura de \"Chave\" / \"Valor\" (\"Key, \"Value\")\n",
    "\n",
    "Funciona assim:"
   ]
  },
  {
   "cell_type": "code",
   "execution_count": 64,
   "id": "d8f34087-998a-4533-bb93-fc8ec30e31b3",
   "metadata": {
    "tags": []
   },
   "outputs": [],
   "source": [
    "pessoa = {\n",
    "    \"id\": 11,\n",
    "    \"nome\": \"Michel Chieregato\",\n",
    "    \"cpf\": 40836474856,\n",
    "    \"valor_em_conta\": 100.00,\n",
    "}"
   ]
  },
  {
   "cell_type": "markdown",
   "id": "329faa0b-c762-4aee-89c8-c39afbd06cfb",
   "metadata": {},
   "source": [
    "Ou seja, ele também salva um conjunto de valores, como as listas, mas sempre associados a uma \"chave\".\n",
    "\n",
    "Por exemplo, a chave \"id\" contém o valor 11, assim por diante. Podemos acessar os dados assim:"
   ]
  },
  {
   "cell_type": "code",
   "execution_count": 65,
   "id": "ee1ef939-bab0-42ee-a395-4e685873dbbb",
   "metadata": {
    "tags": []
   },
   "outputs": [
    {
     "data": {
      "text/plain": [
       "11"
      ]
     },
     "execution_count": 65,
     "metadata": {},
     "output_type": "execute_result"
    }
   ],
   "source": [
    "pessoa[\"id\"]"
   ]
  },
  {
   "cell_type": "markdown",
   "id": "e89866a6-4aa1-481e-a42a-b2ef85881f22",
   "metadata": {},
   "source": [
    "Acrescentar novos dados assim:"
   ]
  },
  {
   "cell_type": "code",
   "execution_count": 72,
   "id": "68494324-6d42-4702-8dee-db1ab3dd533d",
   "metadata": {
    "tags": []
   },
   "outputs": [],
   "source": [
    "pessoa[\"novo_dado\"] = \"Teste\""
   ]
  },
  {
   "cell_type": "code",
   "execution_count": 73,
   "id": "878dc1af-6cb9-4dbb-8b01-ec63fc7d5fc6",
   "metadata": {
    "tags": []
   },
   "outputs": [
    {
     "name": "stdout",
     "output_type": "stream",
     "text": [
      "{'id': 11, 'nome': 'Michel Chieregato', 'cpf': 40836474856, 'valor_em_conta': 100.0, 'novo_dado': 'Teste', 1: 'Outra coisa'}\n"
     ]
    }
   ],
   "source": [
    "print(pessoa)"
   ]
  },
  {
   "cell_type": "markdown",
   "id": "c3dcd8a0-7187-48d8-b136-3c0f54c790ce",
   "metadata": {},
   "source": [
    "E deletar chaves assim:"
   ]
  },
  {
   "cell_type": "code",
   "execution_count": 76,
   "id": "bdc9406c-e568-4018-9857-ded8100a9aa7",
   "metadata": {
    "tags": []
   },
   "outputs": [],
   "source": [
    "del pessoa[1]"
   ]
  },
  {
   "cell_type": "code",
   "execution_count": 78,
   "id": "2d41a08c-5634-4ebf-abe7-c2ac38941a86",
   "metadata": {
    "tags": []
   },
   "outputs": [
    {
     "name": "stdout",
     "output_type": "stream",
     "text": [
      "{'id': 11, 'nome': 'Michel Chieregato', 'cpf': 40836474856, 'valor_em_conta': 100.0}\n"
     ]
    }
   ],
   "source": [
    "print(pessoa)"
   ]
  },
  {
   "cell_type": "markdown",
   "id": "39d4e487-a719-4e36-beed-44cb3d1a14cf",
   "metadata": {},
   "source": [
    "E modificar os dados normalmente:"
   ]
  },
  {
   "cell_type": "code",
   "execution_count": 79,
   "id": "8e7a5c5d-9a8b-430c-b566-ac6482357888",
   "metadata": {
    "tags": []
   },
   "outputs": [],
   "source": [
    "pessoa[\"valor_em_conta\"] = pessoa[\"valor_em_conta\"] + 50"
   ]
  },
  {
   "cell_type": "code",
   "execution_count": 80,
   "id": "b6da1f3c-ef01-452d-930a-4e11fe9eafb2",
   "metadata": {
    "tags": []
   },
   "outputs": [
    {
     "name": "stdout",
     "output_type": "stream",
     "text": [
      "{'id': 11, 'nome': 'Michel Chieregato', 'cpf': 40836474856, 'valor_em_conta': 150.0}\n"
     ]
    }
   ],
   "source": [
    "print(pessoa)"
   ]
  },
  {
   "cell_type": "markdown",
   "id": "22ea5d30-1803-4f09-b251-3c5c405de9e9",
   "metadata": {},
   "source": [
    "Assim, podemos reescrever o programa da seguinte forma:"
   ]
  },
  {
   "cell_type": "code",
   "execution_count": 28,
   "id": "e5313091-4968-4eaa-a0c7-7e9eea8a2c98",
   "metadata": {
    "tags": []
   },
   "outputs": [],
   "source": [
    "pessoas = [\n",
    "    {\n",
    "        \"id\": 11,\n",
    "        \"nome\": \"Michel Chieregato\",\n",
    "        \"cpf\": 40836474856,\n",
    "        \"valor_em_conta\": 100.00,\n",
    "    },\n",
    "    {\n",
    "        \"id\": 21,\n",
    "        \"nome\": \"José da Silva\",\n",
    "        \"cpf\": 12789233340,\n",
    "        \"valor_em_conta\": 00.00,\n",
    "    },\n",
    "    {\n",
    "        \"id\": 33,\n",
    "        \"nome\": \"Maria Gomes\",\n",
    "        \"cpf\": 99989233340,\n",
    "        \"valor_em_conta\": 1000.00,\n",
    "    },\n",
    "]"
   ]
  },
  {
   "cell_type": "code",
   "execution_count": 30,
   "id": "e4e00d1f-9c0a-4a4c-be55-adab2bed5517",
   "metadata": {
    "tags": []
   },
   "outputs": [
    {
     "name": "stdin",
     "output_type": "stream",
     "text": [
      "Digite o id do cliente:  33\n",
      "Digite o valor a ser depositado:  1\n"
     ]
    },
    {
     "name": "stdout",
     "output_type": "stream",
     "text": [
      "O cliente Maria Gomes de cpf 99989233340 agora tem 1002.0 dinheiro no banco.\n"
     ]
    }
   ],
   "source": [
    "id_do_cliente = int(input(\"Digite o id do cliente: \"))\n",
    "valor_a_ser_depositado = float(input(\"Digite o valor a ser depositado: \"))\n",
    "\n",
    "for pessoa in pessoas:\n",
    "    if pessoa[\"id\"] == id_do_cliente:\n",
    "        pessoa[\"valor_em_conta\"] = pessoa[\"valor_em_conta\"] + valor_a_ser_depositado\n",
    "        print(f\"O cliente {pessoa['nome']} de cpf {pessoa['cpf']} agora tem {pessoa['valor_em_conta']} dinheiro no banco.\")"
   ]
  },
  {
   "cell_type": "markdown",
   "id": "dff66c57-510c-4a9c-9136-342c4a5a499c",
   "metadata": {},
   "source": [
    "**Resolvemos um dos problemas, que é o de deixar o código mais semântico!**\n",
    "\n",
    "Mas ainda temos que sempre percorrer a lista inteira para achar o nosso cliente.\n",
    "\n",
    "E para resolver isso vamos utilizar o ponto principal do dicionário: usar ele para facilitar buscas.\n",
    "\n",
    "Se tem um termo que é frequentemente buscado ele pode ser a chave do seu dicionário, facilitando essa busca."
   ]
  },
  {
   "cell_type": "code",
   "execution_count": 106,
   "id": "622f859e-478d-4d15-bf44-e03189061ff2",
   "metadata": {
    "tags": []
   },
   "outputs": [],
   "source": [
    "pessoas_por_id = {\n",
    "    11: \"Michel\",\n",
    "    21: \"José\",\n",
    "    33: \"Maria\",\n",
    "}"
   ]
  },
  {
   "cell_type": "code",
   "execution_count": 107,
   "id": "68afacce-4340-4ffc-aa52-7cc6c982dcfb",
   "metadata": {
    "tags": []
   },
   "outputs": [
    {
     "name": "stdout",
     "output_type": "stream",
     "text": [
      "Maria\n"
     ]
    }
   ],
   "source": [
    "print(pessoas_por_id[33])"
   ]
  },
  {
   "cell_type": "code",
   "execution_count": 101,
   "id": "54880279-3bd2-49c5-b063-0e8ce68a6605",
   "metadata": {
    "tags": []
   },
   "outputs": [],
   "source": [
    "pessoas_por_id = [[11, \"Michel\"], [33, \"Maria\"], [21, \"José\"]]"
   ]
  },
  {
   "cell_type": "code",
   "execution_count": 104,
   "id": "d4c8a0ad-e739-4725-b64d-acb9416f862a",
   "metadata": {
    "tags": []
   },
   "outputs": [
    {
     "name": "stdout",
     "output_type": "stream",
     "text": [
      "[33, 'Maria']\n"
     ]
    }
   ],
   "source": [
    "\n",
    "for pessoa in pessoas_por_id:\n",
    "    if pessoa[0] == 33:\n",
    "        print(pessoa)"
   ]
  },
  {
   "cell_type": "code",
   "execution_count": null,
   "id": "924926fd-5736-4922-a834-a049cee0b8ca",
   "metadata": {},
   "outputs": [],
   "source": []
  },
  {
   "cell_type": "code",
   "execution_count": 31,
   "id": "c577dc8e-e2e5-4f54-b9b0-0176818374fa",
   "metadata": {
    "tags": []
   },
   "outputs": [],
   "source": [
    "pessoas_por_id = {\n",
    "    11: {\n",
    "        \"nome\": \"Michel Chieregato\",\n",
    "        \"cpf\": 40836474856,\n",
    "        \"valor_em_conta\": 100.00,\n",
    "    },\n",
    "    21: {\n",
    "        \"nome\": \"José da Silva\",\n",
    "        \"cpf\": 12789233340,\n",
    "        \"valor_em_conta\": 00.00,\n",
    "    },\n",
    "    33: {\n",
    "        \"nome\": \"Maria Gomes\",\n",
    "        \"cpf\": 99989233340,\n",
    "        \"valor_em_conta\": 1000.00,\n",
    "    },\n",
    "}"
   ]
  },
  {
   "cell_type": "markdown",
   "id": "b6957f39-8137-4114-a937-0587ca554f23",
   "metadata": {},
   "source": [
    "Agora com essa estrutura, fica muito mais fácil achar a pessoa pelo id dela, olha só:"
   ]
  },
  {
   "cell_type": "code",
   "execution_count": 32,
   "id": "58bc84a3-61cd-4875-befd-baabe37829da",
   "metadata": {
    "tags": []
   },
   "outputs": [
    {
     "data": {
      "text/plain": [
       "{'nome': 'José da Silva', 'cpf': 12789233340, 'valor_em_conta': 0.0}"
      ]
     },
     "execution_count": 32,
     "metadata": {},
     "output_type": "execute_result"
    }
   ],
   "source": [
    "pessoas_por_id[21]"
   ]
  },
  {
   "cell_type": "markdown",
   "id": "af074319-c87e-41a9-8e3d-8b0309c41759",
   "metadata": {},
   "source": [
    "Olha então como ficaria nosso problema:"
   ]
  },
  {
   "cell_type": "code",
   "execution_count": 33,
   "id": "97ccde66-a176-434f-bbd3-916fbb8dd921",
   "metadata": {
    "tags": []
   },
   "outputs": [
    {
     "name": "stdin",
     "output_type": "stream",
     "text": [
      "Digite o id do cliente:  11\n",
      "Digite o valor a ser depositado:  1\n"
     ]
    },
    {
     "name": "stdout",
     "output_type": "stream",
     "text": [
      "O cliente Michel Chieregato de cpf 40836474856 agora tem 101.0 dinheiro no banco.\n"
     ]
    }
   ],
   "source": [
    "id_do_cliente = int(input(\"Digite o id do cliente: \"))\n",
    "valor_a_ser_depositado = float(input(\"Digite o valor a ser depositado: \"))\n",
    "\n",
    "pessoa = pessoas_por_id[id_do_cliente]\n",
    "pessoa[\"valor_em_conta\"] = pessoa[\"valor_em_conta\"] + valor_a_ser_depositado\n",
    "\n",
    "print(f\"O cliente {pessoa['nome']} de cpf {pessoa['cpf']} agora tem {pessoa['valor_em_conta']} dinheiro no banco.\")"
   ]
  },
  {
   "cell_type": "markdown",
   "id": "6b9d838a-c28f-48e1-ab89-baa98659b738",
   "metadata": {},
   "source": [
    "#### Exercício 1 - Achando a base complementar\n",
    "\n",
    "Refaça o exercício que fizemos na aula 2 que está a seguir.\n",
    "\n",
    "Porém, agora, que quero que a solução não utilize nenhum if, apenas o dicionário."
   ]
  },
  {
   "cell_type": "code",
   "execution_count": 108,
   "id": "077270b0-269c-490d-bb84-061f6035b8af",
   "metadata": {
    "tags": []
   },
   "outputs": [
    {
     "name": "stdin",
     "output_type": "stream",
     "text": [
      "Digite a sequência:  AATCATTACGAA\n"
     ]
    },
    {
     "name": "stdout",
     "output_type": "stream",
     "text": [
      "TTAGTAATGCTT\n"
     ]
    }
   ],
   "source": [
    "# Solução antiga\n",
    "\n",
    "sequencia_inicial = input('Digite a sequência: ')\n",
    "sequencia_final = ''\n",
    "\n",
    "for base in sequencia_inicial:\n",
    "    if base == 'A':\n",
    "        sequencia_final += 'T'\n",
    "    elif base == 'T':\n",
    "        sequencia_final += 'A'\n",
    "    elif base == 'G':\n",
    "        sequencia_final += 'C'\n",
    "    elif base == 'C':\n",
    "        sequencia_final += 'G'\n",
    "\n",
    "print(sequencia_final)"
   ]
  },
  {
   "cell_type": "code",
   "execution_count": 35,
   "id": "883134e7-168b-40da-a01d-7d1092232279",
   "metadata": {
    "tags": []
   },
   "outputs": [],
   "source": [
    "# Solução nova -> Fazer"
   ]
  },
  {
   "cell_type": "markdown",
   "id": "9f621705-1678-492a-b7a9-cc57f81a8046",
   "metadata": {},
   "source": [
    "#### Exercício 2 - Calculando o RPK de Organismos\n",
    "\n",
    "Dado uma lista com organismos  representados por dicionários, calcule o RPK (reads per kilobase) desses organismos.\n",
    "\n",
    "O RPK é uma medida de normalização do número de leituras do organismo numa amostra, na qual se divide o número de leituras pelo tamanho do genoma, com a seguinte fórmula:\n",
    "\n",
    "`rpk = reads_organismo / (tamanho_do_genoma_do_organismo * 1000)`\n",
    "\n",
    "No final, imprima na a nova lista, agora com os dicionários incluindo a nova informação do rpk."
   ]
  },
  {
   "cell_type": "code",
   "execution_count": 36,
   "id": "922bd796-ee57-4d29-89c3-a3c99c584f66",
   "metadata": {
    "tags": []
   },
   "outputs": [],
   "source": [
    "organismos = [\n",
    "    {\n",
    "        \"nome\": \"Human immunodeficiency virus 1\",\n",
    "        \"reads\": 1000000,\n",
    "        \"tamanho_genoma\": 8955,\n",
    "    },\n",
    "    {\n",
    "        \"nome\": \"Acinetobacter sp. NIPH 1865\",\n",
    "        \"reads\": 100000,\n",
    "        \"tamanho_genoma\": 4006699,\n",
    "    },\n",
    "    {\n",
    "        \"nome\": \"Fungia sp.\",\n",
    "        \"reads\": 50000,\n",
    "        \"tamanho_genoma\": 50001111,\n",
    "    },\n",
    "    \n",
    "]"
   ]
  },
  {
   "cell_type": "code",
   "execution_count": 37,
   "id": "3b3893ea-10d0-4a6f-8d15-d181e1f258d4",
   "metadata": {
    "tags": []
   },
   "outputs": [
    {
     "name": "stdout",
     "output_type": "stream",
     "text": [
      "[{'nome': 'Human immunodeficiency virus 1', 'reads': 1000000, 'tamanho_genoma': 8955, 'rpk': 0.11166945840312674}, {'nome': 'Acinetobacter sp. NIPH 1865', 'reads': 100000, 'tamanho_genoma': 4006699, 'rpk': 2.4958201252452455e-05}, {'nome': 'Fungia sp.', 'reads': 50000, 'tamanho_genoma': 50001111, 'rpk': 9.999777804937173e-07}]\n"
     ]
    }
   ],
   "source": [
    "for organismo in organismos:\n",
    "    organismo[\"rpk\"] = organismo[\"reads\"] / (organismo[\"tamanho_genoma\"] * 1000)\n",
    "\n",
    "print(organismos)"
   ]
  },
  {
   "cell_type": "markdown",
   "id": "653b576e-4e4f-4217-b095-08ae21283c71",
   "metadata": {},
   "source": [
    "### Algumas operações do dicionário"
   ]
  },
  {
   "cell_type": "markdown",
   "id": "8a5bf994-c0ef-4b46-be81-9283360a8976",
   "metadata": {},
   "source": [
    "Você pode verificar se uma chave está no dicionário da seguinte forma:"
   ]
  },
  {
   "cell_type": "code",
   "execution_count": 38,
   "id": "0ca86526-872b-49f0-9233-d8eddb877408",
   "metadata": {
    "tags": []
   },
   "outputs": [],
   "source": [
    "pessoa = {\n",
    "    \"id\": 11,\n",
    "    \"nome\": \"Michel Chieregato\",\n",
    "    \"cpf\": 40836474856,\n",
    "    \"valor_em_conta\": 100.00,\n",
    "}"
   ]
  },
  {
   "cell_type": "code",
   "execution_count": 39,
   "id": "305e6a68-9677-47ca-a9e2-11a1f86c2611",
   "metadata": {
    "tags": []
   },
   "outputs": [
    {
     "data": {
      "text/plain": [
       "True"
      ]
     },
     "execution_count": 39,
     "metadata": {},
     "output_type": "execute_result"
    }
   ],
   "source": [
    "\"nome\" in pessoa"
   ]
  },
  {
   "cell_type": "code",
   "execution_count": 40,
   "id": "59ff1920-0c79-40c5-9eea-ada1793763a3",
   "metadata": {
    "tags": []
   },
   "outputs": [
    {
     "data": {
      "text/plain": [
       "False"
      ]
     },
     "execution_count": 40,
     "metadata": {},
     "output_type": "execute_result"
    }
   ],
   "source": [
    "\"idade\" in pessoa"
   ]
  },
  {
   "cell_type": "markdown",
   "id": "e7338781-c082-4962-b35f-6d3986a8d050",
   "metadata": {},
   "source": [
    "Se você tentar acessar uma chave que não existe, você vai ter um erro:"
   ]
  },
  {
   "cell_type": "code",
   "execution_count": 41,
   "id": "ae618caf-583e-4dd2-beb9-f7219535d476",
   "metadata": {
    "tags": []
   },
   "outputs": [
    {
     "ename": "KeyError",
     "evalue": "'idade'",
     "output_type": "error",
     "traceback": [
      "\u001b[0;31m---------------------------------------------------------------------------\u001b[0m",
      "\u001b[0;31mKeyError\u001b[0m                                  Traceback (most recent call last)",
      "Cell \u001b[0;32mIn[41], line 1\u001b[0m\n\u001b[0;32m----> 1\u001b[0m pessoa[\u001b[38;5;124m\"\u001b[39m\u001b[38;5;124midade\u001b[39m\u001b[38;5;124m\"\u001b[39m]\n",
      "\u001b[0;31mKeyError\u001b[0m: 'idade'"
     ]
    }
   ],
   "source": [
    "pessoa[\"idade\"]"
   ]
  },
  {
   "cell_type": "markdown",
   "id": "aa4bcc52-91dd-402c-89b2-7d87f9551f90",
   "metadata": {},
   "source": [
    "Outra forma de acessar sem o erro é a função `get`, que tenta pegar o valor do dicionário e se não conseguir retorna um valor `default`"
   ]
  },
  {
   "cell_type": "code",
   "execution_count": 42,
   "id": "bcc34dcf-3dda-40e3-a9f2-c53e36cf3322",
   "metadata": {
    "tags": []
   },
   "outputs": [
    {
     "data": {
      "text/plain": [
       "'Michel Chieregato'"
      ]
     },
     "execution_count": 42,
     "metadata": {},
     "output_type": "execute_result"
    }
   ],
   "source": [
    "pessoa.get(\"nome\", \"\")"
   ]
  },
  {
   "cell_type": "code",
   "execution_count": 43,
   "id": "b00a2e9b-162f-42db-a3d7-721713b229cd",
   "metadata": {
    "tags": []
   },
   "outputs": [
    {
     "data": {
      "text/plain": [
       "18"
      ]
     },
     "execution_count": 43,
     "metadata": {},
     "output_type": "execute_result"
    }
   ],
   "source": [
    "pessoa.get(\"idade\", 18)"
   ]
  },
  {
   "cell_type": "markdown",
   "id": "e9718d31-9ac5-4788-a51d-74a0b6f79386",
   "metadata": {},
   "source": [
    "Iterando o dicionário\n",
    "\n",
    "Você pode iterar as chaves do dicionário usando a função `.keys`, os valores usando a função `.values` e ambos ao mesmo tempo usando a função `.items`"
   ]
  },
  {
   "cell_type": "code",
   "execution_count": 44,
   "id": "f995b976-2eaf-4290-a33d-378538313194",
   "metadata": {
    "tags": []
   },
   "outputs": [
    {
     "name": "stdout",
     "output_type": "stream",
     "text": [
      "id\n",
      "nome\n",
      "cpf\n",
      "valor_em_conta\n"
     ]
    }
   ],
   "source": [
    "for key in pessoa.keys():\n",
    "    print(key)"
   ]
  },
  {
   "cell_type": "code",
   "execution_count": 45,
   "id": "26541405-bf57-4726-9e70-ac6eb9dacf68",
   "metadata": {
    "tags": []
   },
   "outputs": [
    {
     "name": "stdout",
     "output_type": "stream",
     "text": [
      "11\n",
      "Michel Chieregato\n",
      "40836474856\n",
      "100.0\n"
     ]
    }
   ],
   "source": [
    "for value in pessoa.values():\n",
    "    print(value)"
   ]
  },
  {
   "cell_type": "code",
   "execution_count": 46,
   "id": "bf87c53e-5ea6-48b0-bcfc-248bea3cf565",
   "metadata": {
    "tags": []
   },
   "outputs": [
    {
     "name": "stdout",
     "output_type": "stream",
     "text": [
      "id 11\n",
      "nome Michel Chieregato\n",
      "cpf 40836474856\n",
      "valor_em_conta 100.0\n"
     ]
    }
   ],
   "source": [
    "for key, value in pessoa.items():\n",
    "    print(key, value)"
   ]
  },
  {
   "cell_type": "code",
   "execution_count": null,
   "id": "988bd121-4908-41ac-a4df-2efdf28865e8",
   "metadata": {},
   "outputs": [],
   "source": []
  }
 ],
 "metadata": {
  "kernelspec": {
   "display_name": "Python 3 (ipykernel)",
   "language": "python",
   "name": "python3"
  },
  "language_info": {
   "codemirror_mode": {
    "name": "ipython",
    "version": 3
   },
   "file_extension": ".py",
   "mimetype": "text/x-python",
   "name": "python",
   "nbconvert_exporter": "python",
   "pygments_lexer": "ipython3",
   "version": "3.11.5"
  }
 },
 "nbformat": 4,
 "nbformat_minor": 5
}
